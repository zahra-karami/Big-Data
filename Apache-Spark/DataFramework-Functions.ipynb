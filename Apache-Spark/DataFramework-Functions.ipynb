{
 "cells": [
  {
   "cell_type": "markdown",
   "metadata": {},
   "source": [
    "1.1"
   ]
  },
  {
   "cell_type": "code",
   "execution_count": 1,
   "metadata": {},
   "outputs": [],
   "source": [
    "from pyspark import SparkConf, SparkContext\n",
    "from pyspark.sql import SQLContext\n",
    "import pyspark.sql.functions as F\n",
    "import urllib \n",
    "import json"
   ]
  },
  {
   "cell_type": "code",
   "execution_count": 2,
   "metadata": {},
   "outputs": [],
   "source": [
    "sc = SparkContext.getOrCreate()\n",
    "sqlContext = SQLContext(sc)"
   ]
  },
  {
   "cell_type": "code",
   "execution_count": 3,
   "metadata": {},
   "outputs": [
    {
     "name": "stdout",
     "output_type": "stream",
     "text": [
      "+---+-------+-----------+---------+-------------+-------------+--------------------+-----+\n",
      "|_id|line_id|line_number|play_name|      speaker|speech_number|          text_entry| type|\n",
      "+---+-------+-----------+---------+-------------+-------------+--------------------+-----+\n",
      "|  0|      1|           | Henry IV|             |         null|               ACT I|  act|\n",
      "|  1|      2|           | Henry IV|             |         null|SCENE I. London. ...|scene|\n",
      "|  2|      3|           | Henry IV|             |         null|Enter KING HENRY,...| line|\n",
      "|  3|      4|      1.1.1| Henry IV|KING HENRY IV|            1|So shaken as we a...| line|\n",
      "|  4|      5|      1.1.2| Henry IV|KING HENRY IV|            1|Find we a time fo...| line|\n",
      "|  5|      6|      1.1.3| Henry IV|KING HENRY IV|            1|And breathe short...| line|\n",
      "|  6|      7|      1.1.4| Henry IV|KING HENRY IV|            1|To be commenced i...| line|\n",
      "|  7|      8|      1.1.5| Henry IV|KING HENRY IV|            1|No more the thirs...| line|\n",
      "|  8|      9|      1.1.6| Henry IV|KING HENRY IV|            1|Shall daub her li...| line|\n",
      "|  9|     10|      1.1.7| Henry IV|KING HENRY IV|            1|Nor more shall tr...| line|\n",
      "| 10|     11|      1.1.8| Henry IV|KING HENRY IV|            1|Nor bruise her fl...| line|\n",
      "| 11|     12|      1.1.9| Henry IV|KING HENRY IV|            1|Of hostile paces:...| line|\n",
      "| 12|     13|     1.1.10| Henry IV|KING HENRY IV|            1|Which, like the m...| line|\n",
      "| 13|     14|     1.1.11| Henry IV|KING HENRY IV|            1|All of one nature...| line|\n",
      "| 14|     15|     1.1.12| Henry IV|KING HENRY IV|            1|Did lately meet i...| line|\n",
      "| 15|     16|     1.1.13| Henry IV|KING HENRY IV|            1|And furious close...| line|\n",
      "| 16|     17|     1.1.14| Henry IV|KING HENRY IV|            1|Shall now, in mut...| line|\n",
      "| 17|     18|     1.1.15| Henry IV|KING HENRY IV|            1|March all one way...| line|\n",
      "| 18|     19|     1.1.16| Henry IV|KING HENRY IV|            1|Against acquainta...| line|\n",
      "| 19|     20|     1.1.17| Henry IV|KING HENRY IV|            1|The edge of war, ...| line|\n",
      "+---+-------+-----------+---------+-------------+-------------+--------------------+-----+\n",
      "only showing top 20 rows\n",
      "\n"
     ]
    }
   ],
   "source": [
    "path = \"shakespeare_full.json\"\n",
    "#load json file from path\n",
    "df2 = sqlContext.read.json(path)\n",
    "\n",
    "#show the first 20 record of df2\n",
    "df2.show()"
   ]
  },
  {
   "cell_type": "code",
   "execution_count": 4,
   "metadata": {},
   "outputs": [
    {
     "name": "stdout",
     "output_type": "stream",
     "text": [
      "+-----------------+-----+\n",
      "|          speaker|count|\n",
      "+-----------------+-----+\n",
      "|       EUPHRONIUS|   16|\n",
      "|Third Conspirator|   12|\n",
      "|            PETER|   63|\n",
      "|  First Gentleman|  284|\n",
      "|           AEGEON|  150|\n",
      "|        DONALBAIN|   10|\n",
      "|        LYCHORIDA|   11|\n",
      "|          QUINTUS|   30|\n",
      "|           AENEAS|  153|\n",
      "|           Porter|   97|\n",
      "|          RUTLAND|   26|\n",
      "|              NYM|   78|\n",
      "|   LORD FITZWATER|   27|\n",
      "|         CARDINAL|  120|\n",
      "|       Attendants|    2|\n",
      "|       ANTIPHOLUS|    6|\n",
      "|    Third Servant|   31|\n",
      "|        ANNE PAGE|   31|\n",
      "|        Moonshine|    6|\n",
      "|       SIR ANDREW|  155|\n",
      "+-----------------+-----+\n",
      "only showing top 20 rows\n",
      "\n"
     ]
    }
   ],
   "source": [
    "#group data by 'speaker' and show the seaker and count of records\n",
    "df2.groupby('speaker').agg(F.count(\"speaker\").alias(\"count\")).show()"
   ]
  },
  {
   "cell_type": "code",
   "execution_count": 5,
   "metadata": {},
   "outputs": [
    {
     "name": "stdout",
     "output_type": "stream",
     "text": [
      "+-----+---------+-----------+----------------------------------------------------+\n",
      "|_id  |speaker  |line_number|text_entry                                          |\n",
      "+-----+---------+-----------+----------------------------------------------------+\n",
      "|18634|PHILO    |1.1.63     |Sir, sometimes, when he is not Antony,              |\n",
      "|32496|HORATIO  |1.1.59     |Did sometimes march? by heaven I charge thee, speak!|\n",
      "|61534|BASSANIO |1.1.166    |Of wondrous virtues: sometimes from her eyes        |\n",
      "|64418|SLENDER  |1.1.240    |A justice of peace sometimes may be beholding to his|\n",
      "|75845|ANTIOCHUS|1.1.34     |Yon sometimes famous princes, like thyself,         |\n",
      "+-----+---------+-----------+----------------------------------------------------+\n",
      "\n"
     ]
    }
   ],
   "source": [
    "#lowe case the 'text_entry' and search for those whiche contains 'sometimes'\n",
    "# and their 'line_number' start with '1.1.'\n",
    "# then, it showes the first 20 columns of \"_id\", \"speaker\", \"line_number\", \"text_entry\"\n",
    "df_filter = df2.filter(F.lower(df2.text_entry).contains('sometimes') & df2.line_number.startswith('1.1.') )\\\n",
    ".select(\"_id\", \"speaker\", \"line_number\", \"text_entry\")\n",
    "df_filter.show(truncate=False)\n"
   ]
  },
  {
   "cell_type": "code",
   "execution_count": 8,
   "metadata": {},
   "outputs": [
    {
     "name": "stdout",
     "output_type": "stream",
     "text": [
      "[14, 47, 15, 45, 11, 28, 36, 43, 49, 18]\n"
     ]
    }
   ],
   "source": [
    "# filter the data where 'speaker' is 'DONALBAIN'\n",
    "# and select the lenght of character in 'text_entry'\n",
    "result_len_text = df2.filter(df2.speaker.contains('DONALBAIN')).select(F.length('text_entry').alias('length'))\n",
    "lst_len_text = [row['length'] for row in result_len_text.collect()]\n",
    "#show a list of intergers:\n",
    "print(lst_len_text)"
   ]
  },
  {
   "cell_type": "code",
   "execution_count": 9,
   "metadata": {},
   "outputs": [
    {
     "name": "stdout",
     "output_type": "stream",
     "text": [
      "[(56668, 3), (56698, 9), (56699, 3), (56700, 9), (56701, 3), (56702, 6), (56723, 6), (56724, 9), (56725, 9), (56726, 3)]\n"
     ]
    }
   ],
   "source": [
    "# filter the data where 'speaker' is 'DONALBAIN'\n",
    "# and select the '_id' and the number of words in 'text_entry'\n",
    "# for calculate the num of words, at first,punctuation symbols are removed by regular expresion 'regexp_replace'\n",
    "# and then split the 'text_entry' to a list of words and the count of words is calculated by using 'size' method\n",
    "result_word_count = df2.filter(df2.speaker.contains('DONALBAIN'))\\\n",
    ".select('_id',F.size(F.split(F.regexp_replace(df2.text_entry,'[^\\w\\s]' ,''),' ')).alias('count'))\n",
    "\n",
    "#Generate a list of pairs (key, value)\n",
    "lst_word_count = [(row[0],row[1] ) for row in result_word_count.collect()]\n",
    "print(lst_word_count)"
   ]
  },
  {
   "cell_type": "code",
   "execution_count": null,
   "metadata": {},
   "outputs": [],
   "source": []
  }
 ],
 "metadata": {
  "kernelspec": {
   "display_name": "Python 3",
   "language": "python",
   "name": "python3"
  },
  "language_info": {
   "codemirror_mode": {
    "name": "ipython",
    "version": 3
   },
   "file_extension": ".py",
   "mimetype": "text/x-python",
   "name": "python",
   "nbconvert_exporter": "python",
   "pygments_lexer": "ipython3",
   "version": "3.7.3"
  }
 },
 "nbformat": 4,
 "nbformat_minor": 2
}
