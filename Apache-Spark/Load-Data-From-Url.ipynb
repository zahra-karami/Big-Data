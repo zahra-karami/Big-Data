{
 "cells": [
  {
   "cell_type": "code",
   "execution_count": 1,
   "metadata": {},
   "outputs": [],
   "source": [
    "from pyspark import SparkConf, SparkContext\n",
    "from pyspark.sql import SQLContext\n",
    "import urllib \n",
    "import json"
   ]
  },
  {
   "cell_type": "code",
   "execution_count": 2,
   "metadata": {},
   "outputs": [],
   "source": [
    "sc = SparkContext.getOrCreate()\n",
    "sqlContext = SQLContext(sc)"
   ]
  },
  {
   "cell_type": "code",
   "execution_count": 3,
   "metadata": {},
   "outputs": [],
   "source": [
    "url = 'http://elmokhtari.com/downloads/ds8003/shakespeare_small.json'\n",
    "response = urllib.request.urlopen(url)\n",
    "#read data from url\n",
    "data = response.read()    \n",
    "#decode json data\n",
    "json_text = data.decode('utf-8').splitlines()"
   ]
  },
  {
   "cell_type": "code",
   "execution_count": 4,
   "metadata": {},
   "outputs": [
    {
     "name": "stdout",
     "output_type": "stream",
     "text": [
      "+---+-------+-----------+---------+-------------+-------------+--------------------+----+\n",
      "|_id|line_id|line_number|play_name|      speaker|speech_number|          text_entry|type|\n",
      "+---+-------+-----------+---------+-------------+-------------+--------------------+----+\n",
      "|  3|      4|      1.1.1| Henry IV|KING HENRY IV|            1|So shaken as we a...|line|\n",
      "|  4|      5|      1.1.2| Henry IV|KING HENRY IV|            1|Find we a time fo...|line|\n",
      "|  5|      6|      1.1.3| Henry IV|KING HENRY IV|            1|And breathe short...|line|\n",
      "|  6|      7|      1.1.4| Henry IV|KING HENRY IV|            1|To be commenced i...|line|\n",
      "|  7|      8|      1.1.5| Henry IV|KING HENRY IV|            1|No more the thirs...|line|\n",
      "|  8|      9|      1.1.6| Henry IV|KING HENRY IV|            1|Shall daub her li...|line|\n",
      "|  9|     10|      1.1.7| Henry IV|KING HENRY IV|            1|Nor more shall tr...|line|\n",
      "| 10|     11|      1.1.8| Henry IV|KING HENRY IV|            1|Nor bruise her fl...|line|\n",
      "| 11|     12|      1.1.9| Henry IV|KING HENRY IV|            1|Of hostile paces:...|line|\n",
      "| 12|     13|     1.1.10| Henry IV|KING HENRY IV|            1|Which, like the m...|line|\n",
      "| 13|     14|     1.1.11| Henry IV|KING HENRY IV|            1|All of one nature...|line|\n",
      "| 14|     15|     1.1.12| Henry IV|KING HENRY IV|            1|Did lately meet i...|line|\n",
      "| 15|     16|     1.1.13| Henry IV|KING HENRY IV|            1|And furious close...|line|\n",
      "| 16|     17|     1.1.14| Henry IV|KING HENRY IV|            1|Shall now, in mut...|line|\n",
      "| 17|     18|     1.1.15| Henry IV|KING HENRY IV|            1|March all one way...|line|\n",
      "| 18|     19|     1.1.16| Henry IV|KING HENRY IV|            1|Against acquainta...|line|\n",
      "| 19|     20|     1.1.17| Henry IV|KING HENRY IV|            1|The edge of war, ...|line|\n",
      "| 20|     21|     1.1.18| Henry IV|KING HENRY IV|            1|No more shall cut...|line|\n",
      "| 21|     22|     1.1.19| Henry IV|KING HENRY IV|            1|As far as to the ...|line|\n",
      "| 22|     23|     1.1.20| Henry IV|KING HENRY IV|            1|Whose soldier now...|line|\n",
      "+---+-------+-----------+---------+-------------+-------------+--------------------+----+\n",
      "only showing top 20 rows\n",
      "\n"
     ]
    }
   ],
   "source": [
    "#load data in data framework\n",
    "df1 = sqlContext.read.json(sc.parallelize(json_text))\n",
    "df1.show()"
   ]
  },
  {
   "cell_type": "code",
   "execution_count": null,
   "metadata": {},
   "outputs": [],
   "source": []
  }
 ],
 "metadata": {
  "kernelspec": {
   "display_name": "Python 3",
   "language": "python",
   "name": "python3"
  },
  "language_info": {
   "codemirror_mode": {
    "name": "ipython",
    "version": 3
   },
   "file_extension": ".py",
   "mimetype": "text/x-python",
   "name": "python",
   "nbconvert_exporter": "python",
   "pygments_lexer": "ipython3",
   "version": "3.7.3"
  }
 },
 "nbformat": 4,
 "nbformat_minor": 2
}
