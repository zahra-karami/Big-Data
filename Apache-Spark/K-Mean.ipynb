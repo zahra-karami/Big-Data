{
 "cells": [
  {
   "cell_type": "code",
   "execution_count": 1,
   "metadata": {},
   "outputs": [],
   "source": [
    "from pyspark.mllib.clustering import KMeans, KMeansModel\n",
    "import pyspark as sp"
   ]
  },
  {
   "cell_type": "code",
   "execution_count": 2,
   "metadata": {},
   "outputs": [],
   "source": [
    "sc = sp.SparkContext.getOrCreate()"
   ]
  },
  {
   "cell_type": "code",
   "execution_count": 3,
   "metadata": {},
   "outputs": [],
   "source": [
    "data = [[1.0,1.0],[1.0,0.8],[-1.0,1.0],[-1.0,-1.0]]\n",
    "#Load Data in RDD\n",
    "parsedData=sc.parallelize(data)\n",
    "kmeansModel = KMeans.train(parsedData, 2, maxIterations=10,  initializationMode=\"random\")"
   ]
  },
  {
   "cell_type": "code",
   "execution_count": 4,
   "metadata": {},
   "outputs": [
    {
     "name": "stdout",
     "output_type": "stream",
     "text": [
      "Predicted value for [1.0, -2.0] is 1\n"
     ]
    }
   ],
   "source": [
    "val1  = [1.0, -2.0]\n",
    "pridicted_val1 = kmeansModel.predict(val1)\n",
    "print(\"Predicted value for {} is {}\".format(val1 , pridicted_val1))"
   ]
  },
  {
   "cell_type": "code",
   "execution_count": 5,
   "metadata": {},
   "outputs": [
    {
     "name": "stdout",
     "output_type": "stream",
     "text": [
      "Predicted value for [1.0, 1.0] is 0\n"
     ]
    }
   ],
   "source": [
    "val2  = [1.0, 1.0]\n",
    "pridicted_val2 = kmeansModel.predict(val2)\n",
    "print(\"Predicted value for {} is {}\".format(val2 , pridicted_val2))"
   ]
  },
  {
   "cell_type": "code",
   "execution_count": 6,
   "metadata": {},
   "outputs": [],
   "source": [
    "# a sample of implementaing the recommendation algorithm\n",
    "from pyspark.mllib.recommendation import ALS, MatrixFactorizationModel, Rating\n",
    "\n",
    "r1 = (1, 1, 1.0)\n",
    "r2 = (1, 2, 2.0)\n",
    "r3 = (2, 1, 2.0)\n",
    "\n",
    "ratings = sc.parallelize([r1, r2, r3])\n",
    "model = ALS.train(ratings, 10, 10)"
   ]
  },
  {
   "cell_type": "code",
   "execution_count": 7,
   "metadata": {},
   "outputs": [
    {
     "name": "stdout",
     "output_type": "stream",
     "text": [
      "Rating(user=2, product=2, rating=0.9871164643901905)\n",
      "Rating(user=1, product=1, rating=1.0000237773576717)\n"
     ]
    }
   ],
   "source": [
    "# Evaluate the model on training data\n",
    "testdata = sc.parallelize([(2,2),(1,1)])\n",
    "\n",
    "predictions = model.predictAll(testdata)\n",
    "ls = predictions.collect()\n",
    "\n",
    "#print result\n",
    "for i in ls :\n",
    "    print(i)"
   ]
  },
  {
   "cell_type": "code",
   "execution_count": null,
   "metadata": {},
   "outputs": [],
   "source": []
  }
 ],
 "metadata": {
  "kernelspec": {
   "display_name": "Python 3",
   "language": "python",
   "name": "python3"
  },
  "language_info": {
   "codemirror_mode": {
    "name": "ipython",
    "version": 3
   },
   "file_extension": ".py",
   "mimetype": "text/x-python",
   "name": "python",
   "nbconvert_exporter": "python",
   "pygments_lexer": "ipython3",
   "version": "3.7.3"
  }
 },
 "nbformat": 4,
 "nbformat_minor": 2
}
