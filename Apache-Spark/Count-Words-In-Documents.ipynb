{
 "cells": [
  {
   "cell_type": "code",
   "execution_count": 1,
   "metadata": {},
   "outputs": [],
   "source": [
    "from pyspark import SparkConf, SparkContext\n",
    "from pyspark.sql import SQLContext\n",
    "from pyspark.sql import functions as f\n",
    "import json"
   ]
  },
  {
   "cell_type": "code",
   "execution_count": 4,
   "metadata": {},
   "outputs": [
    {
     "name": "stdout",
     "output_type": "stream",
     "text": [
      "+-----+-----+\n",
      "|token|count|\n",
      "+-----+-----+\n",
      "|  the|23293|\n",
      "|    I|19041|\n",
      "|  and|17700|\n",
      "|   to|15011|\n",
      "|   of|14666|\n",
      "|    a|12202|\n",
      "|   my|10329|\n",
      "|   in| 9200|\n",
      "|  you| 8818|\n",
      "|   is| 7597|\n",
      "| that| 7193|\n",
      "|  not| 6703|\n",
      "|  And| 6553|\n",
      "| with| 6411|\n",
      "|  his| 5938|\n",
      "| your| 5893|\n",
      "|   be| 5838|\n",
      "|  for| 5513|\n",
      "| have| 5137|\n",
      "|   it| 4813|\n",
      "+-----+-----+\n",
      "only showing top 20 rows\n",
      "\n"
     ]
    }
   ],
   "source": [
    "sc = SparkContext.getOrCreate()\n",
    "sqlContext = SQLContext(sc)\n",
    "\n",
    "# Reading shakespeare_full.json and create a dataframe\n",
    "path = 'shakespeare_full.json'\n",
    "df = sqlContext.read.json(path)\n",
    "\n",
    "    \n",
    "# seperate each row(document) into words\n",
    "#calculating the count of each word and order it desc\n",
    "df.withColumn('token', f.explode(f.split(f.col('text_entry'), ' '))) \\\n",
    "        .groupBy('token') \\\n",
    "        .count() \\\n",
    "        .sort('count', ascending=False) \\\n",
    "        .show()"
   ]
  },
  {
   "cell_type": "code",
   "execution_count": null,
   "metadata": {},
   "outputs": [],
   "source": []
  }
 ],
 "metadata": {
  "kernelspec": {
   "display_name": "Python 3",
   "language": "python",
   "name": "python3"
  },
  "language_info": {
   "codemirror_mode": {
    "name": "ipython",
    "version": 3
   },
   "file_extension": ".py",
   "mimetype": "text/x-python",
   "name": "python",
   "nbconvert_exporter": "python",
   "pygments_lexer": "ipython3",
   "version": "3.7.3"
  }
 },
 "nbformat": 4,
 "nbformat_minor": 2
}
